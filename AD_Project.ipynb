{
 "cells": [
  {
   "cell_type": "code",
   "execution_count": 2,
   "metadata": {},
   "outputs": [],
   "source": [
    "import pandas as pd"
   ]
  },
  {
   "cell_type": "code",
   "execution_count": 3,
   "metadata": {},
   "outputs": [],
   "source": [
    "X = pd.read_excel('Country-data.xlsx',sheet_name=0,header=0,index_col=0)"
   ]
  },
  {
   "cell_type": "code",
   "execution_count": 4,
   "metadata": {},
   "outputs": [
    {
     "name": "stdout",
     "output_type": "stream",
     "text": [
      "(27, 9)\n"
     ]
    }
   ],
   "source": [
    "print(X.shape) #dimension"
   ]
  },
  {
   "cell_type": "code",
   "execution_count": 5,
   "metadata": {},
   "outputs": [],
   "source": [
    "n = X.shape[0] #nombre d'observation\n",
    "p = X.shape[1] #nombre de variables"
   ]
  },
  {
   "cell_type": "code",
   "execution_count": 6,
   "metadata": {},
   "outputs": [
    {
     "name": "stdout",
     "output_type": "stream",
     "text": [
      "                      Décès_Enfants  Exportations  Santé  Importations  \\\n",
      "Pays                                                                     \n",
      "Algeria                        27.3          38.4   4.17          31.4   \n",
      "Argentina                      14.5          18.9   8.10          16.0   \n",
      "Australia                       4.8          19.8   8.73          20.9   \n",
      "Belgium                         4.5          76.4  10.70          74.7   \n",
      "Brazil                         19.8          10.7   9.01          11.8   \n",
      "Cameroon                      108.0          22.2   5.13          27.0   \n",
      "Canada                          5.6          29.1  11.30          31.0   \n",
      "China                          15.7          26.3   5.07          22.6   \n",
      "Cote d'Ivoire                 111.0          50.6   5.30          43.3   \n",
      "Denmark                         4.1          50.5  11.40          43.6   \n",
      "Egypt                          29.1          21.3   4.66          26.6   \n",
      "France                          4.2          26.8  11.90          28.1   \n",
      "Libya                          16.6          65.6   3.88          42.1   \n",
      "Morocco                        33.5          32.2   5.20          43.0   \n",
      "Portugal                        3.9          29.9  11.00          37.4   \n",
      "Qatar                           9.0          62.3   1.81          23.8   \n",
      "Romania                        11.5          32.6   5.58          38.8   \n",
      "Russia                         10.0          29.2   5.08          21.1   \n",
      "Saudi Arabia                   15.7          49.6   4.29          33.0   \n",
      "Senegal                        66.8          24.9   5.66          40.3   \n",
      "South Korea                     4.1          49.4   6.93          46.2   \n",
      "Spain                           3.8          25.5   9.54          26.8   \n",
      "Tunisia                        17.4          50.5   6.21          55.3   \n",
      "Turkey                         19.1          20.4   6.74          25.5   \n",
      "United Arab Emirates            8.6          77.7   3.66          63.6   \n",
      "United Kingdom                  5.2          28.2   9.64          30.8   \n",
      "United States                   7.3          12.4  17.90          15.8   \n",
      "\n",
      "                      Revenue  Inflation  Expect_Vie  Naiss_Totale    PIB  \n",
      "Pays                                                                       \n",
      "Algeria                 12900     16.100        76.5          2.89   4460  \n",
      "Argentina               18700     20.900        75.8          2.37  10300  \n",
      "Australia               41400      1.160        82.0          1.93  51900  \n",
      "Belgium                 41100      1.880        80.0          1.86  44400  \n",
      "Brazil                  14500      8.410        74.2          1.80  11200  \n",
      "Cameroon                 2660      1.910        57.3          5.11   1310  \n",
      "Canada                  40700      2.870        81.3          1.63  47400  \n",
      "China                    9530      6.940        74.6          1.59   4560  \n",
      "Cote d'Ivoire            2690      5.390        56.3          5.27   1220  \n",
      "Denmark                 44000      3.220        79.5          1.87  58000  \n",
      "Egypt                    9860     10.100        70.5          3.19   2600  \n",
      "France                  36900      1.050        81.4          2.03  40600  \n",
      "Libya                   29600     14.200        76.1          2.41  12100  \n",
      "Morocco                  6440      0.976        73.5          2.58   2830  \n",
      "Portugal                27200      0.643        79.8          1.39  22500  \n",
      "Qatar                  125000      6.980        79.5          2.07  70300  \n",
      "Romania                 17800      3.530        73.7          1.59   8230  \n",
      "Russia                  23100     14.200        69.2          1.57  10700  \n",
      "Saudi Arabia            45400     17.200        75.1          2.96  19300  \n",
      "Senegal                  2180      1.850        64.0          5.06   1000  \n",
      "South Korea             30400      3.160        80.1          1.23  22100  \n",
      "Spain                   32500      0.160        81.9          1.37  30700  \n",
      "Tunisia                 10400      3.820        76.9          2.14   4140  \n",
      "Turkey                  18000      7.010        78.2          2.15  10700  \n",
      "United Arab Emirates    57600     12.500        76.5          1.87  35000  \n",
      "United Kingdom          36200      1.570        80.3          1.92  38900  \n",
      "United States           49400      1.220        78.7          1.93  48400  \n"
     ]
    }
   ],
   "source": [
    "print(X)"
   ]
  },
  {
   "cell_type": "code",
   "execution_count": 7,
   "metadata": {},
   "outputs": [],
   "source": [
    "import sklearn"
   ]
  },
  {
   "cell_type": "code",
   "execution_count": 8,
   "metadata": {},
   "outputs": [
    {
     "name": "stdout",
     "output_type": "stream",
     "text": [
      "[[ 0.20562906  0.11256325 -0.92692405 -0.18790174 -0.66462092  1.68977422\n",
      "   0.1815581   0.48377796 -0.9069796 ]\n",
      " [-0.2499184  -0.95719399  0.21674933 -1.26258594 -0.4269202   2.51383411\n",
      "   0.07629896  0.00712936 -0.6177323 ]\n",
      " [-0.59513796 -0.90782058  0.40008629 -0.92064097  0.50339122 -0.87511218\n",
      "   1.00859425 -0.39618869  1.44265944]\n",
      " [-0.60581485  2.19721839  0.97337803  2.83377529  0.49109636 -0.7515032\n",
      "   0.70785383 -0.46035293  1.07119458]\n",
      " [-0.06129328 -1.40704063  0.48156938 -1.55568164 -0.5990483   0.36956161\n",
      "  -0.16429338 -0.51535084 -0.57315652]\n",
      " [ 3.07771345 -0.77615815 -0.64755345 -0.49495437 -1.08428563 -0.74635282\n",
      "  -2.7055499   2.51870085 -1.06299484]\n",
      " [-0.56666624 -0.39762867  1.14798465 -0.21581561  0.4747032  -0.58154084\n",
      "   0.90333511 -0.67117827  1.21978052]\n",
      " [-0.20721082 -0.55123483 -0.66501411 -0.802007   -0.80273323  0.11719327\n",
      "  -0.10414529 -0.70784355 -0.90202673]\n",
      " [ 3.18448238  0.78184727 -0.59808157  0.64253606 -1.08305614 -0.1489094\n",
      "  -2.85592011  2.66536196 -1.06745242]\n",
      " [-0.62005071  0.77636133  1.17708576  0.66347147  0.60994672 -0.52145314\n",
      "   0.63266873 -0.45118661  1.74478419]\n",
      " [ 0.26969042 -0.82553156 -0.78432864 -0.52286824 -0.78920888  0.65969936\n",
      "  -0.72066315  0.75876754 -0.99910288]\n",
      " [-0.61649175 -0.52380516  1.32259128 -0.41819121  0.31896825 -0.89399688\n",
      "   0.91837213 -0.3045255   0.88298572]\n",
      " [-0.17518014  1.60473746 -1.01131725  0.55879443  0.01979321  1.36358385\n",
      "   0.12141002  0.04379464 -0.52858073]\n",
      " [ 0.42628486 -0.22756469 -0.62718268  0.62160065 -0.92937033 -0.90670114\n",
      "  -0.26955252  0.19962207 -0.98771129]\n",
      " [-0.62716864 -0.35374119  1.06068134  0.2308064  -0.0785657  -0.9638703\n",
      "   0.67777979 -0.89116993 -0.0134828 ]\n",
      " [-0.44566145  1.42370161 -1.61371009 -0.71826537  3.92956016  0.12406044\n",
      "   0.63266873 -0.26786022  2.35398655]\n",
      " [-0.35668734 -0.20562096 -0.51659848  0.32850496 -0.46380479 -0.46823261\n",
      "  -0.23947848 -0.70784355 -0.7202566 ]\n",
      " [-0.4100718  -0.39214273 -0.662104   -0.90668403 -0.24659552  1.36358385\n",
      "  -0.91614442 -0.72617619 -0.59792084]\n",
      " [-0.20721082  0.72698792 -0.89200272 -0.07624623  0.66732275  1.87862128\n",
      "  -0.02896019  0.5479422  -0.17197447]\n",
      " [ 1.61142006 -0.62803792 -0.4933176   0.43318199 -1.10395741 -0.75665357\n",
      "  -1.6980695   2.47286926 -1.07834872]\n",
      " [-0.62005071  0.71601605 -0.12373358  0.84491166  0.05257952 -0.53175389\n",
      "   0.72289085 -1.03783104 -0.03329426]\n",
      " [-0.6307276  -0.59512231  0.63580523 -0.5089113   0.13864357 -1.04679132\n",
      "   0.99355723 -0.90950257  0.39265211]\n",
      " [-0.14670843  0.77636133 -0.33326153  1.47995233 -0.76707812 -0.41844566\n",
      "   0.24170619 -0.20369598 -0.92282877]\n",
      " [-0.08620603 -0.87490497 -0.17902568 -0.5996314  -0.45560822  0.12921081\n",
      "   0.43718746 -0.19452967 -0.59792084]\n",
      " [-0.45989731  2.26853554 -1.07533968  2.05916524  1.16731391  1.07172931\n",
      "   0.1815581  -0.45118661  0.6056253 ]\n",
      " [-0.5809021  -0.44700208  0.66490633 -0.22977255  0.29028024 -0.80472373\n",
      "   0.7529649  -0.40535501  0.79878702]\n",
      " [-0.50616385 -1.31377974  3.0686575  -1.27654288  0.83125428 -0.86481143\n",
      "   0.51237256 -0.39618869  1.26930917]]\n"
     ]
    }
   ],
   "source": [
    "#classe pour standardisation\n",
    "from sklearn.preprocessing import StandardScaler\n",
    "\n",
    "#instanciation\n",
    "sc = StandardScaler()\n",
    "\n",
    "#transformation – centrage-réduction\n",
    "Z = sc.fit_transform(X)\n",
    "print(Z)"
   ]
  },
  {
   "cell_type": "code",
   "execution_count": 30,
   "metadata": {},
   "outputs": [
    {
     "name": "stdout",
     "output_type": "stream",
     "text": [
      "[1. 1. 1. 1. 1. 1. 1. 1. 1.]\n"
     ]
    }
   ],
   "source": [
    "import numpy\n",
    "\n",
    "#écart-type\n",
    "print(numpy.std(Z,axis=0,ddof=0))"
   ]
  },
  {
   "cell_type": "code",
   "execution_count": 10,
   "metadata": {},
   "outputs": [],
   "source": [
    "#classe pour l'ACP\n",
    "from sklearn.decomposition import PCA\n",
    "\n",
    "#instanciation\n",
    "acp = PCA(svd_solver='full')"
   ]
  },
  {
   "cell_type": "code",
   "execution_count": 11,
   "metadata": {
    "scrolled": true
   },
   "outputs": [
    {
     "name": "stdout",
     "output_type": "stream",
     "text": [
      "9\n"
     ]
    }
   ],
   "source": [
    "#calculs\n",
    "coord = acp.fit_transform(Z)\n",
    "\n",
    "#nombre de composantes calculées\n",
    "print(acp.n_components_)"
   ]
  },
  {
   "cell_type": "code",
   "execution_count": 12,
   "metadata": {},
   "outputs": [
    {
     "name": "stdout",
     "output_type": "stream",
     "text": [
      "[3.91988456 2.06647291 1.40806749 0.98805515 0.3909368  0.12217856\n",
      " 0.04554745 0.04268845 0.01616864]\n"
     ]
    }
   ],
   "source": [
    "#valeur corrigée\n",
    "valPropre = (n-1)/n*acp.explained_variance_\n",
    "print(valPropre)"
   ]
  },
  {
   "cell_type": "code",
   "execution_count": 13,
   "metadata": {},
   "outputs": [
    {
     "name": "stdout",
     "output_type": "stream",
     "text": [
      "[0.43554273 0.2296081  0.15645194 0.10978391 0.04343742 0.0135754\n",
      " 0.00506083 0.00474316 0.00179652]\n"
     ]
    }
   ],
   "source": [
    "#proportion de variance expliquée\n",
    "print(acp.explained_variance_ratio_)"
   ]
  },
  {
   "cell_type": "code",
   "execution_count": 14,
   "metadata": {},
   "outputs": [
    {
     "data": {
      "image/png": "[encoded data removed]",
      "text/plain": [
       "<Figure size 432x288 with 1 Axes>"
      ]
     },
     "metadata": {
      "needs_background": "light"
     },
     "output_type": "display_data"
    }
   ],
   "source": [
    "import matplotlib\n",
    "import matplotlib.pyplot as plt\n",
    "\n",
    "#scree plot\n",
    "plt.plot(numpy.arange(1,p+1),valPropre)\n",
    "plt.title(\"Scree plot\")\n",
    "plt.ylabel(\"Valeurs propres\")\n",
    "plt.xlabel(\"Numero de composant\")\n",
    "plt.show()"
   ]
  },
  {
   "cell_type": "code",
   "execution_count": 15,
   "metadata": {},
   "outputs": [
    {
     "data": {
      "image/png": "[encoded data removed]",
      "text/plain": [
       "<Figure size 432x288 with 1 Axes>"
      ]
     },
     "metadata": {
      "needs_background": "light"
     },
     "output_type": "display_data"
    }
   ],
   "source": [
    "#cumul de variance expliquée\n",
    "plt.plot(numpy.arange(1,p+1),numpy.cumsum(acp.explained_variance_ratio_))\n",
    "plt.title(\"Variance expliquée par rapport au nombre de facteurs\")\n",
    "plt.ylabel(\"Ratio de variance expliqué par cumul\")\n",
    "plt.xlabel(\"Numero de composant\")\n",
    "plt.show()"
   ]
  },
  {
   "cell_type": "markdown",
   "metadata": {},
   "source": [
    "# Représentation des Variables"
   ]
  },
  {
   "cell_type": "code",
   "execution_count": 19,
   "metadata": {},
   "outputs": [
    {
     "name": "stdout",
     "output_type": "stream",
     "text": [
      "[[ 0.90051404  0.03650595 -0.30648405  0.26847995  0.02492171  0.02894981\n",
      "  -0.12355459  0.00235168 -0.0706921 ]\n",
      " [-0.17583593  0.963687   -0.11217355 -0.03446959  0.08937129  0.06709431\n",
      "  -0.09898329 -0.01416991  0.06427042]\n",
      " [-0.49740344 -0.57455143 -0.45707808 -0.09162931  0.44446777  0.06500565\n",
      "  -0.01256874 -0.05653724  0.00569277]\n",
      " [-0.02963517  0.76650203 -0.45327869 -0.43331171  0.08135585 -0.03861503\n",
      "   0.08429792  0.00525111 -0.05596587]\n",
      " [-0.70917986  0.34501598  0.04779446  0.59330832 -0.07070341  0.04103339\n",
      "   0.04470691 -0.11908759 -0.02942018]\n",
      " [ 0.19689138  0.28277393  0.8563664   0.05244595  0.37921163 -0.00867193\n",
      "   0.00823575  0.02118023 -0.02766943]\n",
      " [-0.93362863 -0.05565125  0.12637635 -0.20049823 -0.03671837 -0.23922225\n",
      "  -0.09541379 -0.02958123 -0.02270764]\n",
      " [ 0.85402822  0.09620377 -0.25716597  0.34318935  0.14634238 -0.22724454\n",
      "   0.04450084 -0.02698687  0.04126234]\n",
      " [-0.82886875  0.08639178 -0.26347129  0.45374744  0.08119941 -0.02226354\n",
      "   0.00832226  0.15173761 -0.00516038]]\n"
     ]
    }
   ],
   "source": [
    "#racine carrée des valeurs propres\n",
    "sqrt_eigval = numpy.sqrt(valPropre)\n",
    "\n",
    "#corrélation des variables avec les axes\n",
    "corvar = numpy.zeros((p,p))\n",
    "for k in range(p):\n",
    "    corvar[:,k] = acp.components_[k,:] * sqrt_eigval[k]\n",
    "    \n",
    "#afficher la matrice des corrélations variables x facteurs\n",
    "print(corvar)"
   ]
  },
  {
   "cell_type": "code",
   "execution_count": 20,
   "metadata": {},
   "outputs": [
    {
     "name": "stdout",
     "output_type": "stream",
     "text": [
      "              id     COR_1     COR_2     COR_3\n",
      "0  Décès_Enfants  0.900514  0.036506 -0.306484\n",
      "1   Exportations -0.175836  0.963687 -0.112174\n",
      "2          Santé -0.497403 -0.574551 -0.457078\n",
      "3   Importations -0.029635  0.766502 -0.453279\n",
      "4        Revenue -0.709180  0.345016  0.047794\n",
      "5      Inflation  0.196891  0.282774  0.856366\n",
      "6     Expect_Vie -0.933629 -0.055651  0.126376\n",
      "7   Naiss_Totale  0.854028  0.096204 -0.257166\n",
      "8            PIB -0.828869  0.086392 -0.263471\n"
     ]
    }
   ],
   "source": [
    "#on affiche pour les trois premiers axes\n",
    "print(pd.DataFrame({'id':X.columns,'COR_1':corvar[:,0],'COR_2':corvar[:,1],'COR_3':corvar[:,2]}))"
   ]
  },
  {
   "cell_type": "code",
   "execution_count": 29,
   "metadata": {},
   "outputs": [
    {
     "data": {
      "image/png": "[encoded data removed]",
      "text/plain": [
       "<Figure size 576x576 with 1 Axes>"
      ]
     },
     "metadata": {
      "needs_background": "light"
     },
     "output_type": "display_data"
    }
   ],
   "source": [
    "#cercle des corrélations\n",
    "fig, axes = plt.subplots(figsize=(8,8))\n",
    "axes.set_xlim(-1,1)\n",
    "axes.set_ylim(-1,1)\n",
    "\n",
    "#affichage des étiquettes (noms des variables)\n",
    "for j in range(p):\n",
    "    plt.annotate(X.columns[j],(corvar[j,0],corvar[j,1]))\n",
    "    \n",
    "#ajouter les axes\n",
    "plt.plot([-1,1],[0,0],color='silver',linestyle='-',linewidth=1)\n",
    "plt.plot([0,0],[-1,1],color='silver',linestyle='-',linewidth=1)\n",
    "\n",
    "#ajouter un cercle\n",
    "cercle = plt.Circle((0,0),1,color='blue',fill=False)\n",
    "axes.add_artist(cercle)\n",
    "\n",
    "#affichage\n",
    "plt.show()"
   ]
  },
  {
   "cell_type": "markdown",
   "metadata": {},
   "source": [
    "# Représentation des individus"
   ]
  },
  {
   "cell_type": "code",
   "execution_count": 28,
   "metadata": {},
   "outputs": [
    {
     "data": {
      "image/png": "[encoded data removed]",
      "text/plain": [
       "<Figure size 864x864 with 1 Axes>"
      ]
     },
     "metadata": {
      "needs_background": "light"
     },
     "output_type": "display_data"
    }
   ],
   "source": [
    "#positionnement des individus dans le premier plan factoriel\n",
    "fig, axes = plt.subplots(figsize=(12,12))\n",
    "axes.set_xlim(-6,6) #même limites en abscisse\n",
    "axes.set_ylim(-6,6) #et en ordonnée\n",
    "\n",
    "#placement des étiquettes des observations\n",
    "for i in range(n):\n",
    "    plt.annotate(X.index[i],(coord[i,0],coord[i,1]))\n",
    "\n",
    "#ajouter les axes\n",
    "plt.plot([-6,6],[0,0],color='silver',linestyle='-',linewidth=1)\n",
    "plt.plot([0,0],[-6,6],color='silver',linestyle='-',linewidth=1)\n",
    "\n",
    "#affichage\n",
    "plt.show()"
   ]
  },
  {
   "cell_type": "code",
   "execution_count": 23,
   "metadata": {},
   "outputs": [
    {
     "name": "stdout",
     "output_type": "stream",
     "text": [
      "                      ID        d_i\n",
      "0                Algeria   5.336123\n",
      "1              Argentina   9.508871\n",
      "2              Australia   6.460694\n",
      "3                Belgium  16.838900\n",
      "4                 Brazil   5.752096\n",
      "5               Cameroon  27.265577\n",
      "6                 Canada   5.161556\n",
      "7                  China   3.415911\n",
      "8          Cote d'Ivoire  29.117841\n",
      "9                Denmark   7.104984\n",
      "10                 Egypt   4.794142\n",
      "11                France   5.195344\n",
      "12                 Libya   6.096693\n",
      "13               Morocco   3.787167\n",
      "14              Portugal   3.885759\n",
      "15                 Qatar  26.815611\n",
      "16               Romania   2.055814\n",
      "17                Russia   5.226724\n",
      "18          Saudi Arabia   5.678122\n",
      "19               Senegal  15.374720\n",
      "20           South Korea   3.512627\n",
      "21                 Spain   4.498748\n",
      "22               Tunisia   4.640615\n",
      "23                Turkey   1.975256\n",
      "24  United Arab Emirates  13.868816\n",
      "25        United Kingdom   3.133326\n",
      "26         United States  16.497959\n"
     ]
    }
   ],
   "source": [
    "#Contribution des individus dans l'inertie totale\n",
    "di = numpy.sum(Z**2,axis=1)\n",
    "print(pd.DataFrame({'ID':X.index,'d_i':di}))"
   ]
  },
  {
   "cell_type": "code",
   "execution_count": 24,
   "metadata": {},
   "outputs": [
    {
     "name": "stdout",
     "output_type": "stream",
     "text": [
      "                      id    COS2_1    COS2_2    COS2_3\n",
      "0                Algeria  0.282641  0.045860  0.524938\n",
      "1              Argentina  0.033501  0.117152  0.654435\n",
      "2              Australia  0.498498  0.263471  0.014044\n",
      "3                Belgium  0.234966  0.387902  0.260376\n",
      "4                 Brazil  0.020793  0.767000  0.181452\n",
      "5               Cameroon  0.831118  0.015253  0.078536\n",
      "6                 Canada  0.745506  0.143924  0.071042\n",
      "7                  China  0.089974  0.189143  0.330787\n",
      "8          Cote d'Ivoire  0.803213  0.043250  0.100112\n",
      "9                Denmark  0.650825  0.032700  0.200682\n",
      "10                 Egypt  0.702024  0.063765  0.182424\n",
      "11                France  0.554399  0.286757  0.124902\n",
      "12                 Libya  0.018402  0.664610  0.226579\n",
      "13               Morocco  0.400659  0.000003  0.104435\n",
      "14              Portugal  0.428166  0.185534  0.137807\n",
      "15                 Qatar  0.273383  0.192442  0.019713\n",
      "16               Romania  0.021369  0.001220  0.006578\n",
      "17                Russia  0.073843  0.021106  0.698761\n",
      "18          Saudi Arabia  0.019910  0.323407  0.483266\n",
      "19               Senegal  0.817485  0.002584  0.127510\n",
      "20           South Korea  0.392050  0.170022  0.018507\n",
      "21                 Spain  0.544511  0.314154  0.029690\n",
      "22               Tunisia  0.025432  0.257994  0.060657\n",
      "23                Turkey  0.026488  0.492880  0.247618\n",
      "24  United Arab Emirates  0.074524  0.896967  0.008096\n",
      "25        United Kingdom  0.658536  0.204042  0.098107\n",
      "26         United States  0.291515  0.455532  0.083188\n"
     ]
    }
   ],
   "source": [
    "#qualité de représentation des individus - COS2\n",
    "cos2 = coord**2\n",
    "for j in range(p):\n",
    "    cos2[:,j] = cos2[:,j]/di\n",
    "print(pd.DataFrame({'id':X.index,'COS2_1':cos2[:,0],'COS2_2':cos2[:,1],'COS2_3':cos2[:,2]}))"
   ]
  },
  {
   "cell_type": "code",
   "execution_count": null,
   "metadata": {},
   "outputs": [],
   "source": []
  },
  {
   "cell_type": "code",
   "execution_count": null,
   "metadata": {},
   "outputs": [],
   "source": []
  },
  {
   "cell_type": "code",
   "execution_count": null,
   "metadata": {},
   "outputs": [],
   "source": []
  },
  {
   "cell_type": "code",
   "execution_count": null,
   "metadata": {},
   "outputs": [],
   "source": []
  }
 ],
 "metadata": {
  "interpreter": {
   "hash": "e9bfccae696ba957de076da88c25fef4e2366d92af6f410b6f849ec0411be58f"
  },
  "kernelspec": {
   "display_name": "Python 3",
   "language": "python",
   "name": "python3"
  },
  "language_info": {
   "codemirror_mode": {
    "name": "ipython",
    "version": 3
   },
   "file_extension": ".py",
   "mimetype": "text/x-python",
   "name": "python",
   "nbconvert_exporter": "python",
   "pygments_lexer": "ipython3",
   "version": "3.8.3"
  }
 },
 "nbformat": 4,
 "nbformat_minor": 2
}
